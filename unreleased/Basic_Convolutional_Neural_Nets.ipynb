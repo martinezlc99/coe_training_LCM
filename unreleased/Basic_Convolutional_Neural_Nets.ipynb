{
  "nbformat": 4,
  "nbformat_minor": 0,
  "metadata": {
    "colab": {
      "name": "Basic Convolutional Neural Nets",
      "version": "0.3.2",
      "provenance": [],
      "collapsed_sections": [],
      "include_colab_link": true
    },
    "kernelspec": {
      "name": "python3",
      "display_name": "Python 3"
    },
    "accelerator": "TPU"
  },
  "cells": [
    {
      "cell_type": "markdown",
      "metadata": {
        "id": "view-in-github",
        "colab_type": "text"
      },
      "source": [
        "<a href=\"https://colab.research.google.com/github/todnewman/coe_training/blob/master/Basic_Convolutional_Neural_Nets.ipynb\" target=\"_parent\"><img src=\"https://colab.research.google.com/assets/colab-badge.svg\" alt=\"Open In Colab\"/></a>"
      ]
    },
    {
      "cell_type": "markdown",
      "metadata": {
        "id": "uHwxGemYV_FT",
        "colab_type": "text"
      },
      "source": [
        "# Basic Convolutional Neural Networks\n",
        "**Author**: W. Tod Newman\n",
        "\n",
        "**Updates**: New Version\n",
        "\n",
        "## Problem\n",
        "\n",
        "Use a convolutional neural network (CNN) to classify images from the \"Fashion MNIST\" data set,  Evaluate different numbers of neurons, kernel sizes, etc. and their impact on performance.\n",
        "\n",
        "Additionally, this notebook shows how to:\n",
        "1.  Follow a managed workflow from Data to Verification.  This uses GitHub, Google Drive, and Tensorboard to demonstrate what a production workflow might look like.\n",
        "2.  Connect a Keras/Tensorflow model with SKLearn and Pandas tools\n",
        "3.  Use Tensorboard for Evaluating models\n",
        "\n",
        "## Learning Objectives\n",
        "\n",
        "\n",
        "* Evaluate how CNN parameters impact classification accuracy and training time..\n",
        "* Evaluate model results using Tensorboard\n",
        "\n",
        "## Dataset\n",
        "\n",
        "This dataset is the Fashion MNIST dataset\n",
        "\n",
        "Fashion-MNIST is a dataset of Zalando's article images—consisting of a training set of 60,000 examples and a test set of 10,000 examples. Each example is a 28x28 grayscale image, associated with a label from 10 classes. Zalando intends Fashion-MNIST to serve as a direct drop-in replacement for the original MNIST dataset for benchmarking machine learning algorithms. It shares the same image size and structure of training and testing splits.\n",
        "\n",
        "Each image is 28 pixels in height and 28 pixels in width, for a total of 784 pixels in total. Each pixel has a single pixel-value associated with it, indicating the lightness or darkness of that pixel, with higher numbers meaning darker. This pixel-value is an integer between 0 and 255. The training and test data sets have 785 columns. The first column consists of the class labels (see above), and represents the article of clothing. The rest of the columns contain the pixel-values of the associated image.\n",
        "\n",
        "The Labels are:  \n",
        "0 T-shirt/top\n",
        "1 Trouser\n",
        "2 Pullover\n",
        "3 Dress\n",
        "4 Coat\n",
        "5 Sandal\n",
        "6 Shirt\n",
        "7 Sneaker\n",
        "8 Bag\n",
        "9 Ankle boot \n",
        "\n"
      ]
    },
    {
      "cell_type": "code",
      "metadata": {
        "id": "V0A2_Mo0KxWc",
        "colab_type": "code",
        "colab": {
          "base_uri": "https://localhost:8080/",
          "height": 34
        },
        "outputId": "b0f7041a-deb0-4b17-92a8-2c7ea08aac62"
      },
      "source": [
        "import keras\n",
        "from keras.datasets import fashion_mnist\n",
        "from keras.models import Sequential\n",
        "from keras.layers import Dense, Dropout, Flatten,  Conv2D, MaxPooling2D, SpatialDropout2D\n",
        "from keras import backend as K\n",
        "from keras.callbacks import EarlyStopping\n",
        "from sklearn import metrics\n",
        "import numpy as np\n",
        "import matplotlib.pyplot as plt\n",
        "from sklearn.model_selection import train_test_split\n",
        "import os\n",
        "%matplotlib inline\n",
        "os.environ['TF_CPP_MIN_LOG_LEVEL'] = \"2\"\n",
        "tensorboard = False"
      ],
      "execution_count": 1,
      "outputs": [
        {
          "output_type": "stream",
          "text": [
            "Using TensorFlow backend.\n"
          ],
          "name": "stderr"
        }
      ]
    },
    {
      "cell_type": "markdown",
      "metadata": {
        "id": "vE3bA_BGUBX7",
        "colab_type": "text"
      },
      "source": [
        "# Code to allow you to connect to Tensorboard from CoLaboratory\n",
        "As you probably know, your Google Colab virtual machine is running on a local network located in a Google's server room, while your local machine could be anywhere else in the world.\n",
        "\n",
        "How then can we access the TensorBoard page from our local machine?\n",
        "\n",
        "Fortunately there's a free service named ngrok that will allow us to connect to the Tensorboard connection on our Web browser.\n",
        "\n",
        "## Step One: Get the ngrok image from its stable location, then unzip it. \n",
        "Remember, this is all being done in the Google environment, so don't worry about your firewall...\n",
        "ngrok is pretty useful for testing.  Find more at https://ngrok.com/\n",
        "\n",
        "## Step Two: Connect Tensorboard\n",
        "\n",
        "Note that this gives a link to the Tensorboard URL at the end.  Train the model first and then click the  link below (will have ngrok.io at the end) to see results in Tensorboard.\n",
        "\n",
        "Here's a link with basic info on Tensorboard:  https://www.tensorflow.org/guide/summaries_and_tensorboard\n",
        "\n",
        "## Step Three: Run TensorBoard\n",
        "\n",
        "## Step Four:  Run ngrok and grab the URL that the Tensorboard instance will be hosted at.\n",
        "The URL below (in blue) is what you click on to see your Tensorboard instance after you train the CNN."
      ]
    },
    {
      "cell_type": "code",
      "metadata": {
        "id": "TE_ENXwa22pK",
        "colab_type": "code",
        "outputId": "b307160d-8648-4320-a233-5a800aa4e90c",
        "colab": {
          "base_uri": "https://localhost:8080/",
          "height": 272
        }
      },
      "source": [
        "if not tensorboard:\n",
        "    !wget https://bin.equinox.io/c/4VmDzA7iaHb/ngrok-stable-linux-amd64.zip\n",
        "    !unzip ngrok-stable-linux-amd64.zip\n",
        "LOG_DIR = './log'\n",
        "get_ipython().system_raw(\n",
        "    'tensorboard --logdir {} --host 0.0.0.0 --port 6006 &'\n",
        "    .format(LOG_DIR)\n",
        ")\n",
        "get_ipython().system_raw('./ngrok http 6006 &')\n",
        "!curl -s http://localhost:4040/api/tunnels | python3 -c \\\n",
        "\"import sys, json; print(json.load(sys.stdin)['tunnels'][0]['public_url'])\"\n",
        "\n",
        "    \n",
        "tensorboard = True"
      ],
      "execution_count": 0,
      "outputs": [
        {
          "output_type": "stream",
          "text": [
            "--2019-04-29 20:57:11--  https://bin.equinox.io/c/4VmDzA7iaHb/ngrok-stable-linux-amd64.zip\n",
            "Resolving bin.equinox.io (bin.equinox.io)... 52.203.102.189, 52.4.95.48, 34.226.180.131, ...\n",
            "Connecting to bin.equinox.io (bin.equinox.io)|52.203.102.189|:443... connected.\n",
            "HTTP request sent, awaiting response... 200 OK\n",
            "Length: 14991793 (14M) [application/octet-stream]\n",
            "Saving to: ‘ngrok-stable-linux-amd64.zip.2’\n",
            "\n",
            "ngrok-stable-linux- 100%[===================>]  14.30M  36.9MB/s    in 0.4s    \n",
            "\n",
            "2019-04-29 20:57:11 (36.9 MB/s) - ‘ngrok-stable-linux-amd64.zip.2’ saved [14991793/14991793]\n",
            "\n",
            "Archive:  ngrok-stable-linux-amd64.zip\n",
            "replace ngrok? [y]es, [n]o, [A]ll, [N]one, [r]ename: A\n",
            "  inflating: ngrok                   \n",
            "https://fd364935.ngrok.io\n"
          ],
          "name": "stdout"
        }
      ]
    },
    {
      "cell_type": "markdown",
      "metadata": {
        "id": "3y6VjlzZLKPB",
        "colab_type": "text"
      },
      "source": [
        "## Set Up Variables"
      ]
    },
    {
      "cell_type": "code",
      "metadata": {
        "id": "LtL1H333LHGz",
        "colab_type": "code",
        "colab": {}
      },
      "source": [
        "epochs = 10\n",
        "num_classes = 10\n",
        "batch_size = 128\n",
        "img_rows, img_cols = 28, 28"
      ],
      "execution_count": 0,
      "outputs": []
    },
    {
      "cell_type": "markdown",
      "metadata": {
        "id": "4SW52B7dT9H5",
        "colab_type": "text"
      },
      "source": [
        "## Gather and Process Fashion MNIST data\n",
        "\n",
        "1. First, collect the data from Keras (our goal is someday that our organizational data is this easy to get!)\n",
        "2. Then split into train and test sets.\n",
        "3. Next we need to process the data into the proper shape for the CNN\n",
        "4. Then scale the floats to land between 0 and 1.  Often times we use sklearn's MinMaxScaler for this, but in this case we're going for simplicity.\n",
        "5. Next take the y_train and y_test labels and encode them one-hot.  This will enable the CNN to function."
      ]
    },
    {
      "cell_type": "code",
      "metadata": {
        "id": "GZENio2YLPUy",
        "colab_type": "code",
        "outputId": "f94095f4-3f09-4051-91e8-1713713d14d2",
        "colab": {
          "base_uri": "https://localhost:8080/",
          "height": 170
        }
      },
      "source": [
        "# Grab the data from the keras repository\n",
        "\n",
        "mnist_data = fashion_mnist.load_data()\n",
        "x = mnist_data[0][0]\n",
        "y = mnist_data[0][1]\n",
        "\n",
        "x_train, x_test, y_train, y_test = train_test_split(x, y, test_size=0.33, random_state=42)\n",
        "\n",
        "# Process the date into the right tensor shape.  This is a good practice, but\n",
        "# usually tensorflow uses channels last (the 'else' here)\n",
        "\n",
        "if K.image_data_format() == \"channels first\":\n",
        "    x_train = x_train.reshape(x_train.shape[0], 1, img_rows, img_cols)\n",
        "    x_test = x_test.reshape(x_test.shape[0], 1, img_rows, img_cols)\n",
        "    input_shape = (1, img_rows, img_cols)\n",
        "else:\n",
        "    x_train = x_train.reshape(x_train.shape[0], img_rows, img_cols, 1)\n",
        "    x_test = x_test.reshape(x_test.shape[0], img_rows, img_cols, 1)\n",
        "    input_shape = (img_rows, img_cols, 1)\n",
        "    \n",
        "#\n",
        "#  Cast to a 32 bit float and then scale so the value is a float between 0 and 1\n",
        "    \n",
        "x_train = x_train.astype(\"float32\")\n",
        "x_test = x_test.astype(\"float32\")\n",
        "x_train /= 255\n",
        "x_test /= 255\n",
        "\n",
        "#\n",
        "# Convert Class Vector to Binary Class Matrices (one-hot encoding).\n",
        "y_train = keras.utils.to_categorical(y_train, num_classes)\n",
        "y_test = keras.utils.to_categorical(y_test, num_classes)\n",
        "print(y_test.shape)\n",
        "\n",
        "#\n",
        "# Function to decode one-hot encoding later on when we want to evaluate performance.\n",
        "def decode_one_hot(y):\n",
        "    y_classes = [np.argmax(yi, axis=None, out=None) for yi in y]\n",
        "    return y_classes"
      ],
      "execution_count": 3,
      "outputs": [
        {
          "output_type": "stream",
          "text": [
            "Downloading data from http://fashion-mnist.s3-website.eu-central-1.amazonaws.com/train-labels-idx1-ubyte.gz\n",
            "32768/29515 [=================================] - 0s 3us/step\n",
            "Downloading data from http://fashion-mnist.s3-website.eu-central-1.amazonaws.com/train-images-idx3-ubyte.gz\n",
            "26427392/26421880 [==============================] - 2s 0us/step\n",
            "Downloading data from http://fashion-mnist.s3-website.eu-central-1.amazonaws.com/t10k-labels-idx1-ubyte.gz\n",
            "8192/5148 [===============================================] - 0s 0us/step\n",
            "Downloading data from http://fashion-mnist.s3-website.eu-central-1.amazonaws.com/t10k-images-idx3-ubyte.gz\n",
            "4423680/4422102 [==============================] - 1s 0us/step\n",
            "(19800, 10)\n"
          ],
          "name": "stdout"
        }
      ]
    },
    {
      "cell_type": "markdown",
      "metadata": {
        "id": "8FcFnUPDLvnO",
        "colab_type": "text"
      },
      "source": [
        "## Build the Model"
      ]
    },
    {
      "cell_type": "code",
      "metadata": {
        "id": "8EWdo8mALXB9",
        "colab_type": "code",
        "colab": {}
      },
      "source": [
        "from keras.callbacks import TensorBoard\n",
        "\n",
        "model = Sequential()\n",
        "model.add(Conv2D(20, kernel_size=(3,3), strides=(1,1), activation=\"relu\", input_shape=input_shape))\n",
        "model.add(MaxPooling2D(pool_size=(2,2)))\n",
        "model.add(Conv2D(32, kernel_size=(3,3), activation=\"relu\"))\n",
        "model.add(SpatialDropout2D(0.2, data_format=None))\n",
        "model.add(MaxPooling2D(pool_size=(2,2)))\n",
        "model.add(Flatten())\n",
        "#model.add(Dense(128, activation=\"relu\"))  # Try removing or adding this layer to improve performance\n",
        "#model.add(Dropout(0.5))\n",
        "model.add(Dense(num_classes, activation=\"softmax\"))\n",
        "\n",
        "tbCallBack = TensorBoard(log_dir='./log', histogram_freq=1,\n",
        "                         write_graph=True,\n",
        "                         write_grads=True,\n",
        "                         batch_size=batch_size,\n",
        "                         write_images=True)\n",
        "\n",
        "# Having trouble getting tensorboard callback to work well with EarlyStopping callback...\n",
        "if not tensorboard:\n",
        "    my_callbacks = [EarlyStopping(monitor=\"acc\", patience=5)]\n",
        "else:\n",
        "    my_callbacks = [tbCallBack]"
      ],
      "execution_count": 0,
      "outputs": []
    },
    {
      "cell_type": "markdown",
      "metadata": {
        "id": "fvIfjap-L8TO",
        "colab_type": "text"
      },
      "source": [
        "## Fit and Evaluate the Model"
      ]
    },
    {
      "cell_type": "code",
      "metadata": {
        "id": "n5U20dV1L-eP",
        "colab_type": "code",
        "outputId": "6091879f-3f0b-437d-b515-b3ef68061744",
        "colab": {
          "base_uri": "https://localhost:8080/",
          "height": 1088
        }
      },
      "source": [
        "from sklearn import metrics\n",
        "\n",
        "# I use my Google Drive as a trained model repository.  You will likely need to modify the below.\n",
        "%cd /content/drive/'My Drive'/models\n",
        "\n",
        "# Set retrain to False if you want to load with pre-trained weights\n",
        "retrain = True\n",
        "weights_file = 'cnn_fashion_mnist'\n",
        "\n",
        "#\n",
        "# Only load pre-trained weights if we aren't training from scratch\n",
        "if not retrain:\n",
        "    model.load_weights(weights_file) \n",
        "#\n",
        "# Compile the model so we can fit it.\n",
        "model.compile(loss=keras.losses.categorical_crossentropy, \n",
        "              optimizer=keras.optimizers.Adadelta(), \n",
        "              metrics=['accuracy'])\n",
        "#\n",
        "# Fit the model.  Once the model is trained we'll evaluate the performance.\n",
        "hist = model.fit(x_train, y_train,\n",
        "          batch_size=batch_size,\n",
        "          epochs=epochs,\n",
        "          verbose=1,\n",
        "          validation_data=(x_test, y_test),\n",
        "          callbacks=my_callbacks)\n",
        "\n",
        "score = model.evaluate(x_test, y_test)\n",
        "\n",
        "model.save_weights(weights_file, overwrite=True)\n",
        "\n",
        "#\n",
        "# Predict on the test data and pass to metrics function\n",
        "yhat = model.predict_classes(x_test).astype(int)\n",
        "y_dec = decode_one_hot(y_test)\n",
        "print(metrics.classification_report(y_dec, yhat))\n",
        "print(\"Testing Loss:\", score[0])\n",
        "print(\"Testing Accuracy:\", score[1])\n",
        "\n",
        "model.summary()\n",
        "\n"
      ],
      "execution_count": 14,
      "outputs": [
        {
          "output_type": "stream",
          "text": [
            "/content/drive/My Drive/models\n",
            "Train on 40200 samples, validate on 19800 samples\n",
            "Epoch 1/10\n",
            "40200/40200 [==============================] - 31s 779us/step - loss: 0.3108 - acc: 0.8884 - val_loss: 0.3419 - val_acc: 0.8785\n",
            "Epoch 2/10\n",
            "40200/40200 [==============================] - 31s 764us/step - loss: 0.3019 - acc: 0.8904 - val_loss: 0.3151 - val_acc: 0.8860\n",
            "Epoch 3/10\n",
            "40200/40200 [==============================] - 31s 764us/step - loss: 0.2966 - acc: 0.8924 - val_loss: 0.3293 - val_acc: 0.8807\n",
            "Epoch 4/10\n",
            "40200/40200 [==============================] - 31s 760us/step - loss: 0.2908 - acc: 0.8963 - val_loss: 0.3632 - val_acc: 0.8660\n",
            "Epoch 5/10\n",
            "40200/40200 [==============================] - 31s 767us/step - loss: 0.2857 - acc: 0.8985 - val_loss: 0.3079 - val_acc: 0.8873\n",
            "Epoch 6/10\n",
            "40200/40200 [==============================] - 31s 763us/step - loss: 0.2837 - acc: 0.8975 - val_loss: 0.2918 - val_acc: 0.8959\n",
            "Epoch 7/10\n",
            "40200/40200 [==============================] - 31s 766us/step - loss: 0.2782 - acc: 0.8991 - val_loss: 0.3391 - val_acc: 0.8793\n",
            "Epoch 8/10\n",
            "40200/40200 [==============================] - 31s 766us/step - loss: 0.2752 - acc: 0.9010 - val_loss: 0.2837 - val_acc: 0.8979\n",
            "Epoch 9/10\n",
            "40200/40200 [==============================] - 31s 765us/step - loss: 0.2720 - acc: 0.9010 - val_loss: 0.3174 - val_acc: 0.8833\n",
            "Epoch 10/10\n",
            "40200/40200 [==============================] - 31s 766us/step - loss: 0.2689 - acc: 0.9039 - val_loss: 0.3814 - val_acc: 0.8648\n",
            "19800/19800 [==============================] - 6s 289us/step\n",
            "              precision    recall  f1-score   support\n",
            "\n",
            "           0       0.82      0.89      0.85      1962\n",
            "           1       0.99      0.97      0.98      1998\n",
            "           2       0.94      0.60      0.73      2005\n",
            "           3       0.87      0.92      0.90      1961\n",
            "           4       0.57      0.96      0.72      1989\n",
            "           5       0.98      0.97      0.98      1969\n",
            "           6       0.78      0.45      0.57      1995\n",
            "           7       0.95      0.96      0.96      1953\n",
            "           8       0.98      0.97      0.97      1983\n",
            "           9       0.96      0.96      0.96      1985\n",
            "\n",
            "    accuracy                           0.86     19800\n",
            "   macro avg       0.88      0.87      0.86     19800\n",
            "weighted avg       0.88      0.86      0.86     19800\n",
            "\n",
            "Testing Loss: 0.38142642761721757\n",
            "Testing Accuracy: 0.8648484848244021\n",
            "_________________________________________________________________\n",
            "Layer (type)                 Output Shape              Param #   \n",
            "=================================================================\n",
            "conv2d_5 (Conv2D)            (None, 26, 26, 20)        200       \n",
            "_________________________________________________________________\n",
            "max_pooling2d_5 (MaxPooling2 (None, 13, 13, 20)        0         \n",
            "_________________________________________________________________\n",
            "conv2d_6 (Conv2D)            (None, 11, 11, 32)        5792      \n",
            "_________________________________________________________________\n",
            "spatial_dropout2d_3 (Spatial (None, 11, 11, 32)        0         \n",
            "_________________________________________________________________\n",
            "max_pooling2d_6 (MaxPooling2 (None, 5, 5, 32)          0         \n",
            "_________________________________________________________________\n",
            "flatten_3 (Flatten)          (None, 800)               0         \n",
            "_________________________________________________________________\n",
            "dense_3 (Dense)              (None, 10)                8010      \n",
            "=================================================================\n",
            "Total params: 14,002\n",
            "Trainable params: 14,002\n",
            "Non-trainable params: 0\n",
            "_________________________________________________________________\n"
          ],
          "name": "stdout"
        }
      ]
    },
    {
      "cell_type": "markdown",
      "metadata": {
        "id": "wTXLg2MJMFhy",
        "colab_type": "text"
      },
      "source": [
        "## Plot the accuracy vs. validation accuracy"
      ]
    },
    {
      "cell_type": "code",
      "metadata": {
        "id": "P2Z97VRkMIRh",
        "colab_type": "code",
        "outputId": "c4a30169-1cb7-4cb6-d21c-215cff22ad8c",
        "colab": {
          "base_uri": "https://localhost:8080/",
          "height": 521
        }
      },
      "source": [
        "epoch_list = list(range(1, len(hist.history['acc']) + 1))\n",
        "plt.plot(epoch_list, hist.history['acc'], epoch_list, hist.history['val_acc'])\n",
        "plt.legend((\"Training Accuracy\", \"Validation Accuracy\"))\n",
        "plt.show()\n",
        "\n",
        "plt.plot(epoch_list, hist.history['loss'], epoch_list, hist.history['val_loss'])\n",
        "plt.legend((\"Training Loss\", \"Validation Loss\"))\n",
        "plt.show()"
      ],
      "execution_count": 6,
      "outputs": [
        {
          "output_type": "display_data",
          "data": {
            "image/png": "[encoded data removed]",
            "text/plain": [
              "<Figure size 432x288 with 1 Axes>"
            ]
          },
          "metadata": {
            "tags": []
          }
        },
        {
          "output_type": "display_data",
          "data": {
            "image/png": "[encoded data removed]",
            "text/plain": [
              "<Figure size 432x288 with 1 Axes>"
            ]
          },
          "metadata": {
            "tags": []
          }
        }
      ]
    },
    {
      "cell_type": "markdown",
      "metadata": {
        "id": "wUrr6nY-FO_O",
        "colab_type": "text"
      },
      "source": [
        "## Mount your Google Drive with this command.\n",
        "\n",
        "I store trained models in my Google Drive and code/data in GitHub."
      ]
    },
    {
      "cell_type": "code",
      "metadata": {
        "id": "euu5NjS1gKV-",
        "colab_type": "code",
        "outputId": "3725cc38-1766-4698-dde3-6ca55c7f7ff8",
        "colab": {
          "base_uri": "https://localhost:8080/",
          "height": 139
        }
      },
      "source": [
        "from google.colab import drive\n",
        "drive.mount('/content/drive')\n",
        "%cd /content/drive/'My Drive'/\n",
        "#%ls"
      ],
      "execution_count": 7,
      "outputs": [
        {
          "output_type": "stream",
          "text": [
            "Go to this URL in a browser: https://accounts.google.com/o/oauth2/auth?client_id=947318989803-6bn6qk8qdgf4n4g3pfee6491hc0brc4i.apps.googleusercontent.com&redirect_uri=urn%3Aietf%3Awg%3Aoauth%3A2.0%3Aoob&scope=email%20https%3A%2F%2Fwww.googleapis.com%2Fauth%2Fdocs.test%20https%3A%2F%2Fwww.googleapis.com%2Fauth%2Fdrive%20https%3A%2F%2Fwww.googleapis.com%2Fauth%2Fdrive.photos.readonly%20https%3A%2F%2Fwww.googleapis.com%2Fauth%2Fpeopleapi.readonly&response_type=code\n",
            "\n",
            "Enter your authorization code:\n",
            "··········\n",
            "Mounted at /content/drive\n",
            "/content/drive/My Drive\n"
          ],
          "name": "stdout"
        }
      ]
    },
    {
      "cell_type": "code",
      "metadata": {
        "id": "TPxAdDDAg7Th",
        "colab_type": "code",
        "outputId": "b75f3867-f341-4141-a034-1c69fc8fd2d5",
        "colab": {
          "base_uri": "https://localhost:8080/",
          "height": 34
        }
      },
      "source": [
        "log_dir='/content/log/'\n",
        "!tensorboard --logdir log_dir"
      ],
      "execution_count": 0,
      "outputs": [
        {
          "output_type": "stream",
          "text": [
            "TensorBoard 1.13.1 at http://1157996a596f:6007 (Press CTRL+C to quit)\n"
          ],
          "name": "stdout"
        }
      ]
    },
    {
      "cell_type": "code",
      "metadata": {
        "id": "hfsF8TlLwarT",
        "colab_type": "code",
        "colab": {}
      },
      "source": [
        ""
      ],
      "execution_count": 0,
      "outputs": []
    }
  ]
}
